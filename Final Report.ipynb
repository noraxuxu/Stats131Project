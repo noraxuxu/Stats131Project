{
 "cells": [
  {
   "cell_type": "markdown",
   "metadata": {},
   "source": [
    "# Context and description of the data\n",
    "\n",
    "#### 1. Background information on the subject and field of study\n",
    "\n",
    "The data explores the sleep disorders by interviewing people on their sleeping behaviors. The variables include people’s usual sleep time and wake time during weekdays, their sleep hours, and also behavior variables such as how frequent do people snore, snort or stop breathing during the sleep cycle, how often do they feel very sleepy during the day time, as well as whether they have consulted a doctor about their sleeping problem. In this project, we will study and assess which variables will be more likely to cause sleep disorders and construct a logistic regression model to predict whether people will see doctors for sleep disorders. We also try to classify people in 3 different clusters based on their self-reported sleeping habits. \n",
    "\n",
    "#### 2. Information about data collection.\n",
    "\n",
    "The data had been collected by Centers for Disease Control and Prevention from 2015 to 2016 and it was published in March 2018. The method used in data collection was interview through the Computer-Assisted Personal Interview (CAPI) system, by which trained interviewers asked questions with regards to sleep disorders at homes of participants. All interviewees were at least sixteen-year old when they participated the interviews. Given that the responses were self-reported by participants, the results might not represent authentic sleeping performances, leading to biased and skewed information. For instance, people might be less willing to report that they have serious problems with sleeping. The dataset might have fewer people who have visited doctors for sleep disorders than the reality. \n",
    "\n",
    "Data Dictionary: https://wwwn.cdc.gov/Nchs/Nhanes/2015-2016/SLQ_I.htm\n",
    "\n",
    "Data File: https://wwwn.cdc.gov/Nchs/Nhanes/2015-2016/SLQ_I.XPT"
   ]
  },
  {
   "cell_type": "markdown",
   "metadata": {},
   "source": [
    "# Exploratory Analysis of the Data\n",
    "\n",
    "#### 1. Data Cleaning\n",
    "\n",
    "* Rename each column.\n",
    "* Drop all NA (missing value).\n",
    "* Manually delete data points of 'Refused' or 'Don't know'.\n",
    "* Round variables 'Snore', 'Snort', and 'Sleep' to nearest integer.\n",
    "* Transform variable Doctor so that value 1 indicates seeing doctors and value 0 indicates not seeing doctors.\n",
    "* Transform variables SleepTime and WakeTime as to be in regular format."
   ]
  },
  {
   "cell_type": "code",
   "execution_count": 1,
   "metadata": {},
   "outputs": [],
   "source": [
    "import pandas as pd\n",
    "import numpy as np\n",
    "import matplotlib.pyplot as plt\n",
    "import seaborn as sns"
   ]
  },
  {
   "cell_type": "code",
   "execution_count": 2,
   "metadata": {},
   "outputs": [
    {
     "data": {
      "text/html": [
       "<div>\n",
       "<style scoped>\n",
       "    .dataframe tbody tr th:only-of-type {\n",
       "        vertical-align: middle;\n",
       "    }\n",
       "\n",
       "    .dataframe tbody tr th {\n",
       "        vertical-align: top;\n",
       "    }\n",
       "\n",
       "    .dataframe thead th {\n",
       "        text-align: right;\n",
       "    }\n",
       "</style>\n",
       "<table border=\"1\" class=\"dataframe\">\n",
       "  <thead>\n",
       "    <tr style=\"text-align: right;\">\n",
       "      <th></th>\n",
       "      <th>Respondent</th>\n",
       "      <th>SleepTime</th>\n",
       "      <th>WakeTime</th>\n",
       "      <th>SleepHours</th>\n",
       "      <th>Snore</th>\n",
       "      <th>Snort</th>\n",
       "      <th>Doctor</th>\n",
       "      <th>Sleepy</th>\n",
       "    </tr>\n",
       "  </thead>\n",
       "  <tbody>\n",
       "    <tr>\n",
       "      <th>1</th>\n",
       "      <td>83733.0</td>\n",
       "      <td>23:00</td>\n",
       "      <td>07:00</td>\n",
       "      <td>8.0</td>\n",
       "      <td>1.0</td>\n",
       "      <td>0.0</td>\n",
       "      <td>0</td>\n",
       "      <td>0.0</td>\n",
       "    </tr>\n",
       "    <tr>\n",
       "      <th>5</th>\n",
       "      <td>83737.0</td>\n",
       "      <td>21:00</td>\n",
       "      <td>06:00</td>\n",
       "      <td>9.0</td>\n",
       "      <td>3.0</td>\n",
       "      <td>0.0</td>\n",
       "      <td>0</td>\n",
       "      <td>1.0</td>\n",
       "    </tr>\n",
       "    <tr>\n",
       "      <th>6</th>\n",
       "      <td>83741.0</td>\n",
       "      <td>23:00</td>\n",
       "      <td>05:30</td>\n",
       "      <td>6.5</td>\n",
       "      <td>0.0</td>\n",
       "      <td>0.0</td>\n",
       "      <td>0</td>\n",
       "      <td>1.0</td>\n",
       "    </tr>\n",
       "    <tr>\n",
       "      <th>7</th>\n",
       "      <td>83742.0</td>\n",
       "      <td>22:30</td>\n",
       "      <td>06:30</td>\n",
       "      <td>8.0</td>\n",
       "      <td>1.0</td>\n",
       "      <td>0.0</td>\n",
       "      <td>0</td>\n",
       "      <td>0.0</td>\n",
       "    </tr>\n",
       "    <tr>\n",
       "      <th>8</th>\n",
       "      <td>83743.0</td>\n",
       "      <td>00:00</td>\n",
       "      <td>06:30</td>\n",
       "      <td>6.5</td>\n",
       "      <td>0.0</td>\n",
       "      <td>0.0</td>\n",
       "      <td>0</td>\n",
       "      <td>3.0</td>\n",
       "    </tr>\n",
       "  </tbody>\n",
       "</table>\n",
       "</div>"
      ],
      "text/plain": [
       "   Respondent SleepTime WakeTime  SleepHours  Snore  Snort  Doctor  Sleepy\n",
       "1     83733.0     23:00    07:00         8.0    1.0    0.0       0     0.0\n",
       "5     83737.0     21:00    06:00         9.0    3.0    0.0       0     1.0\n",
       "6     83741.0     23:00    05:30         6.5    0.0    0.0       0     1.0\n",
       "7     83742.0     22:30    06:30         8.0    1.0    0.0       0     0.0\n",
       "8     83743.0     00:00    06:30         6.5    0.0    0.0       0     3.0"
      ]
     },
     "execution_count": 2,
     "metadata": {},
     "output_type": "execute_result"
    }
   ],
   "source": [
    "SLQ = pd.read_sas('SLQ_I.XPT')\n",
    "SLQ.columns = ['Respondent','SleepTime','WakeTime','SleepHours','Snore','Snort','Doctor','Sleepy']\n",
    "SLQ = SLQ.dropna(axis=0, how='any')\n",
    "\n",
    "SLQ=SLQ[(SLQ['Snore']<7) & (SLQ['Snort']<7) & (SLQ['Doctor']<7) &  (SLQ['Sleepy']<7)]\n",
    "\n",
    "SLQ['Snore'] = np.round_(SLQ['Snore'], decimals=0)\n",
    "SLQ['Snort'] = np.round_(SLQ['Snort'], decimals=0)\n",
    "SLQ['Sleepy'] = np.round_(SLQ['Sleepy'], decimals=0)\n",
    "\n",
    "Doc = {1:1,2:0}\n",
    "SLQ['Doctor'] = SLQ['Doctor'].map(Doc)\n",
    "\n",
    "SLQ.SleepTime = SLQ.SleepTime.str.decode('utf-8')\n",
    "SLQ.WakeTime = SLQ.WakeTime.str.decode('utf-8')\n",
    "SLQ.head()"
   ]
  },
  {
   "cell_type": "code",
   "execution_count": 3,
   "metadata": {},
   "outputs": [
    {
     "data": {
      "text/plain": [
       "(5648, 8)"
      ]
     },
     "execution_count": 3,
     "metadata": {},
     "output_type": "execute_result"
    }
   ],
   "source": [
    "SLQ.shape"
   ]
  },
  {
   "cell_type": "markdown",
   "metadata": {},
   "source": [
    "#### 2. Summary Statistics and the distributional shape of selected variables in the data\n",
    "\n",
    "Here we generated the summary statistics for the dataset. \n",
    "\n",
    "In addition, we ploted the density of the numerical variable SleepHours, which displayed a roughly normal distributional shape."
   ]
  },
  {
   "cell_type": "code",
   "execution_count": 4,
   "metadata": {},
   "outputs": [
    {
     "data": {
      "text/html": [
       "<div>\n",
       "<style scoped>\n",
       "    .dataframe tbody tr th:only-of-type {\n",
       "        vertical-align: middle;\n",
       "    }\n",
       "\n",
       "    .dataframe tbody tr th {\n",
       "        vertical-align: top;\n",
       "    }\n",
       "\n",
       "    .dataframe thead th {\n",
       "        text-align: right;\n",
       "    }\n",
       "</style>\n",
       "<table border=\"1\" class=\"dataframe\">\n",
       "  <thead>\n",
       "    <tr style=\"text-align: right;\">\n",
       "      <th></th>\n",
       "      <th>SleepHours</th>\n",
       "      <th>Snore</th>\n",
       "      <th>Snort</th>\n",
       "      <th>Doctor</th>\n",
       "      <th>Sleepy</th>\n",
       "    </tr>\n",
       "  </thead>\n",
       "  <tbody>\n",
       "    <tr>\n",
       "      <th>count</th>\n",
       "      <td>5648.000000</td>\n",
       "      <td>5648.000000</td>\n",
       "      <td>5648.000000</td>\n",
       "      <td>5648.000000</td>\n",
       "      <td>5648.000000</td>\n",
       "    </tr>\n",
       "    <tr>\n",
       "      <th>mean</th>\n",
       "      <td>7.782932</td>\n",
       "      <td>1.358888</td>\n",
       "      <td>0.399965</td>\n",
       "      <td>0.248761</td>\n",
       "      <td>1.744157</td>\n",
       "    </tr>\n",
       "    <tr>\n",
       "      <th>std</th>\n",
       "      <td>1.553279</td>\n",
       "      <td>1.165098</td>\n",
       "      <td>0.811145</td>\n",
       "      <td>0.432333</td>\n",
       "      <td>1.184974</td>\n",
       "    </tr>\n",
       "    <tr>\n",
       "      <th>min</th>\n",
       "      <td>2.000000</td>\n",
       "      <td>0.000000</td>\n",
       "      <td>0.000000</td>\n",
       "      <td>0.000000</td>\n",
       "      <td>0.000000</td>\n",
       "    </tr>\n",
       "    <tr>\n",
       "      <th>25%</th>\n",
       "      <td>7.000000</td>\n",
       "      <td>0.000000</td>\n",
       "      <td>0.000000</td>\n",
       "      <td>0.000000</td>\n",
       "      <td>1.000000</td>\n",
       "    </tr>\n",
       "    <tr>\n",
       "      <th>50%</th>\n",
       "      <td>8.000000</td>\n",
       "      <td>1.000000</td>\n",
       "      <td>0.000000</td>\n",
       "      <td>0.000000</td>\n",
       "      <td>2.000000</td>\n",
       "    </tr>\n",
       "    <tr>\n",
       "      <th>75%</th>\n",
       "      <td>8.500000</td>\n",
       "      <td>2.000000</td>\n",
       "      <td>0.000000</td>\n",
       "      <td>0.000000</td>\n",
       "      <td>3.000000</td>\n",
       "    </tr>\n",
       "    <tr>\n",
       "      <th>max</th>\n",
       "      <td>14.500000</td>\n",
       "      <td>3.000000</td>\n",
       "      <td>3.000000</td>\n",
       "      <td>1.000000</td>\n",
       "      <td>4.000000</td>\n",
       "    </tr>\n",
       "  </tbody>\n",
       "</table>\n",
       "</div>"
      ],
      "text/plain": [
       "        SleepHours        Snore        Snort       Doctor       Sleepy\n",
       "count  5648.000000  5648.000000  5648.000000  5648.000000  5648.000000\n",
       "mean      7.782932     1.358888     0.399965     0.248761     1.744157\n",
       "std       1.553279     1.165098     0.811145     0.432333     1.184974\n",
       "min       2.000000     0.000000     0.000000     0.000000     0.000000\n",
       "25%       7.000000     0.000000     0.000000     0.000000     1.000000\n",
       "50%       8.000000     1.000000     0.000000     0.000000     2.000000\n",
       "75%       8.500000     2.000000     0.000000     0.000000     3.000000\n",
       "max      14.500000     3.000000     3.000000     1.000000     4.000000"
      ]
     },
     "execution_count": 4,
     "metadata": {},
     "output_type": "execute_result"
    }
   ],
   "source": [
    "SLQ.drop('Respondent',axis=1).describe()"
   ]
  },
  {
   "cell_type": "code",
   "execution_count": 5,
   "metadata": {},
   "outputs": [
    {
     "data": {
      "image/png": "[encoded data removed]",
      "text/plain": [
       "<matplotlib.figure.Figure at 0x1a0a2a95f8>"
      ]
     },
     "metadata": {},
     "output_type": "display_data"
    }
   ],
   "source": [
    "sns.kdeplot(SLQ.SleepHours, bw=2, legend=False)\n",
    "plt.title('Distribution of Sleep Hours');"
   ]
  },
  {
   "cell_type": "markdown",
   "metadata": {},
   "source": [
    "#### 3. Transform variables\n",
    "\n",
    "We transformed SleepTime and WakeTime to float type. For example, if the time in the data set is 20:30, it will be transformed to a float type 2030. For SleepTime, we wanted to indicate how late people sleep if the time is after 00:00. We modified the time between 0000 and 1400 by adding 2400 so that the value would be consistent with how late people sleep."
   ]
  },
  {
   "cell_type": "code",
   "execution_count": 6,
   "metadata": {},
   "outputs": [
    {
     "data": {
      "text/html": [
       "<div>\n",
       "<style scoped>\n",
       "    .dataframe tbody tr th:only-of-type {\n",
       "        vertical-align: middle;\n",
       "    }\n",
       "\n",
       "    .dataframe tbody tr th {\n",
       "        vertical-align: top;\n",
       "    }\n",
       "\n",
       "    .dataframe thead th {\n",
       "        text-align: right;\n",
       "    }\n",
       "</style>\n",
       "<table border=\"1\" class=\"dataframe\">\n",
       "  <thead>\n",
       "    <tr style=\"text-align: right;\">\n",
       "      <th></th>\n",
       "      <th>Respondent</th>\n",
       "      <th>SleepTime</th>\n",
       "      <th>WakeTime</th>\n",
       "      <th>SleepHours</th>\n",
       "      <th>Snore</th>\n",
       "      <th>Snort</th>\n",
       "      <th>Doctor</th>\n",
       "      <th>Sleepy</th>\n",
       "      <th>newSleepTime</th>\n",
       "      <th>newWakeTime</th>\n",
       "    </tr>\n",
       "  </thead>\n",
       "  <tbody>\n",
       "    <tr>\n",
       "      <th>1</th>\n",
       "      <td>83733.0</td>\n",
       "      <td>23:00</td>\n",
       "      <td>07:00</td>\n",
       "      <td>8.0</td>\n",
       "      <td>1.0</td>\n",
       "      <td>0.0</td>\n",
       "      <td>0</td>\n",
       "      <td>0.0</td>\n",
       "      <td>2300</td>\n",
       "      <td>700</td>\n",
       "    </tr>\n",
       "    <tr>\n",
       "      <th>5</th>\n",
       "      <td>83737.0</td>\n",
       "      <td>21:00</td>\n",
       "      <td>06:00</td>\n",
       "      <td>9.0</td>\n",
       "      <td>3.0</td>\n",
       "      <td>0.0</td>\n",
       "      <td>0</td>\n",
       "      <td>1.0</td>\n",
       "      <td>2100</td>\n",
       "      <td>600</td>\n",
       "    </tr>\n",
       "    <tr>\n",
       "      <th>6</th>\n",
       "      <td>83741.0</td>\n",
       "      <td>23:00</td>\n",
       "      <td>05:30</td>\n",
       "      <td>6.5</td>\n",
       "      <td>0.0</td>\n",
       "      <td>0.0</td>\n",
       "      <td>0</td>\n",
       "      <td>1.0</td>\n",
       "      <td>2300</td>\n",
       "      <td>530</td>\n",
       "    </tr>\n",
       "    <tr>\n",
       "      <th>7</th>\n",
       "      <td>83742.0</td>\n",
       "      <td>22:30</td>\n",
       "      <td>06:30</td>\n",
       "      <td>8.0</td>\n",
       "      <td>1.0</td>\n",
       "      <td>0.0</td>\n",
       "      <td>0</td>\n",
       "      <td>0.0</td>\n",
       "      <td>2230</td>\n",
       "      <td>630</td>\n",
       "    </tr>\n",
       "    <tr>\n",
       "      <th>8</th>\n",
       "      <td>83743.0</td>\n",
       "      <td>00:00</td>\n",
       "      <td>06:30</td>\n",
       "      <td>6.5</td>\n",
       "      <td>0.0</td>\n",
       "      <td>0.0</td>\n",
       "      <td>0</td>\n",
       "      <td>3.0</td>\n",
       "      <td>2400</td>\n",
       "      <td>630</td>\n",
       "    </tr>\n",
       "  </tbody>\n",
       "</table>\n",
       "</div>"
      ],
      "text/plain": [
       "   Respondent SleepTime WakeTime  SleepHours  Snore  Snort  Doctor  Sleepy  \\\n",
       "1     83733.0     23:00    07:00         8.0    1.0    0.0       0     0.0   \n",
       "5     83737.0     21:00    06:00         9.0    3.0    0.0       0     1.0   \n",
       "6     83741.0     23:00    05:30         6.5    0.0    0.0       0     1.0   \n",
       "7     83742.0     22:30    06:30         8.0    1.0    0.0       0     0.0   \n",
       "8     83743.0     00:00    06:30         6.5    0.0    0.0       0     3.0   \n",
       "\n",
       "   newSleepTime  newWakeTime  \n",
       "1          2300          700  \n",
       "5          2100          600  \n",
       "6          2300          530  \n",
       "7          2230          630  \n",
       "8          2400          630  "
      ]
     },
     "execution_count": 6,
     "metadata": {},
     "output_type": "execute_result"
    }
   ],
   "source": [
    "newSleepTime=[]\n",
    "for hr,mins in np.array(SLQ.SleepTime.str.split(':')):\n",
    "    newSleepTime.append(int(hr)*100+int(mins))\n",
    "\n",
    "newWakeTime=[]\n",
    "for hr,mins in np.array(SLQ.WakeTime.str.split(':')):\n",
    "    newWakeTime.append(int(hr)*100+int(mins))\n",
    "\n",
    "newSleepTime=np.array(newSleepTime)\n",
    "newSleepTime[newSleepTime<=1400]=newSleepTime[newSleepTime<=1400]+2400\n",
    "newWakeTime=np.array(newWakeTime)\n",
    "\n",
    "newSleepTime=pd.Series(newSleepTime,index=SLQ.index)\n",
    "newWakeTime=pd.Series(newWakeTime,index=SLQ.index)\n",
    "\n",
    "SLQ['newSleepTime']=newSleepTime\n",
    "SLQ['newWakeTime']=newWakeTime\n",
    "SLQ.head()"
   ]
  },
  {
   "cell_type": "markdown",
   "metadata": {},
   "source": [
    "#### 4. Relationships among Sleepy, Snort, and Doctor\n",
    "\n",
    "\n",
    "We were interested in the relationship among variables Sleepy, Snort, and Doctor. To be more specific, we wanted to check whether there were differences in Sleepy and Snort frequencies between those who came to see doctors for their sleeping problems and those who did not. Therefore, we grouped the data by Sleepy and Snort frequencies to generate summary statistics respectively for people seeing doctors and people not seeing doctors. Also, in order to visualize the statistics, we made a line plot of the summary statistics. \n",
    "\n",
    "From the information above, we could clearly see that Sleepy and Snort frequencies are positively correlated. That is, with higher frequencies of snorting or stopping breathing, there would be a higher frequency of feeling overly sleepy during the day. Moreover, those who had seen doctors earlier experienced significant greater frequencies in both Sleepy and Snort than those who did not tell doctors about sleeping troubles.\n",
    "\n"
   ]
  },
  {
   "cell_type": "code",
   "execution_count": 7,
   "metadata": {},
   "outputs": [
    {
     "data": {
      "text/html": [
       "<div>\n",
       "<style scoped>\n",
       "    .dataframe tbody tr th:only-of-type {\n",
       "        vertical-align: middle;\n",
       "    }\n",
       "\n",
       "    .dataframe tbody tr th {\n",
       "        vertical-align: top;\n",
       "    }\n",
       "\n",
       "    .dataframe thead th {\n",
       "        text-align: right;\n",
       "    }\n",
       "</style>\n",
       "<table border=\"1\" class=\"dataframe\">\n",
       "  <thead>\n",
       "    <tr style=\"text-align: right;\">\n",
       "      <th>Sleepy</th>\n",
       "      <th>0.0</th>\n",
       "      <th>1.0</th>\n",
       "      <th>2.0</th>\n",
       "      <th>3.0</th>\n",
       "      <th>4.0</th>\n",
       "      <th>All</th>\n",
       "    </tr>\n",
       "    <tr>\n",
       "      <th>Snort</th>\n",
       "      <th></th>\n",
       "      <th></th>\n",
       "      <th></th>\n",
       "      <th></th>\n",
       "      <th></th>\n",
       "      <th></th>\n",
       "    </tr>\n",
       "  </thead>\n",
       "  <tbody>\n",
       "    <tr>\n",
       "      <th>0.0</th>\n",
       "      <td>888</td>\n",
       "      <td>1040</td>\n",
       "      <td>1360</td>\n",
       "      <td>702</td>\n",
       "      <td>299</td>\n",
       "      <td>4289</td>\n",
       "    </tr>\n",
       "    <tr>\n",
       "      <th>1.0</th>\n",
       "      <td>81</td>\n",
       "      <td>179</td>\n",
       "      <td>259</td>\n",
       "      <td>159</td>\n",
       "      <td>61</td>\n",
       "      <td>739</td>\n",
       "    </tr>\n",
       "    <tr>\n",
       "      <th>2.0</th>\n",
       "      <td>38</td>\n",
       "      <td>64</td>\n",
       "      <td>124</td>\n",
       "      <td>73</td>\n",
       "      <td>41</td>\n",
       "      <td>340</td>\n",
       "    </tr>\n",
       "    <tr>\n",
       "      <th>3.0</th>\n",
       "      <td>22</td>\n",
       "      <td>38</td>\n",
       "      <td>85</td>\n",
       "      <td>72</td>\n",
       "      <td>63</td>\n",
       "      <td>280</td>\n",
       "    </tr>\n",
       "    <tr>\n",
       "      <th>All</th>\n",
       "      <td>1029</td>\n",
       "      <td>1321</td>\n",
       "      <td>1828</td>\n",
       "      <td>1006</td>\n",
       "      <td>464</td>\n",
       "      <td>5648</td>\n",
       "    </tr>\n",
       "  </tbody>\n",
       "</table>\n",
       "</div>"
      ],
      "text/plain": [
       "Sleepy   0.0   1.0   2.0   3.0  4.0   All\n",
       "Snort                                    \n",
       "0.0      888  1040  1360   702  299  4289\n",
       "1.0       81   179   259   159   61   739\n",
       "2.0       38    64   124    73   41   340\n",
       "3.0       22    38    85    72   63   280\n",
       "All     1029  1321  1828  1006  464  5648"
      ]
     },
     "execution_count": 7,
     "metadata": {},
     "output_type": "execute_result"
    }
   ],
   "source": [
    "seedoctor = SLQ.loc[SLQ.Doctor==1,]\n",
    "nodoctor = SLQ.loc[SLQ.Doctor==0,]\n",
    "\n",
    "table = pd.crosstab(SLQ.Snort,SLQ.Sleepy, margins=True)\n",
    "table "
   ]
  },
  {
   "cell_type": "code",
   "execution_count": 8,
   "metadata": {},
   "outputs": [
    {
     "data": {
      "text/plain": [
       "Sleepy\n",
       "0.0    0.377622\n",
       "1.0    0.497653\n",
       "2.0    0.615044\n",
       "3.0    0.728947\n",
       "4.0    0.972350\n",
       "Name: Snort, dtype: float64"
      ]
     },
     "execution_count": 8,
     "metadata": {},
     "output_type": "execute_result"
    }
   ],
   "source": [
    "seedoctor.groupby('Sleepy')['Snort'].mean()"
   ]
  },
  {
   "cell_type": "code",
   "execution_count": 9,
   "metadata": {},
   "outputs": [
    {
     "data": {
      "text/plain": [
       "Sleepy\n",
       "0.0    0.190745\n",
       "1.0    0.284296\n",
       "2.0    0.351744\n",
       "3.0    0.389776\n",
       "4.0    0.489879\n",
       "Name: Snort, dtype: float64"
      ]
     },
     "execution_count": 9,
     "metadata": {},
     "output_type": "execute_result"
    }
   ],
   "source": [
    "nodoctor.groupby('Sleepy')['Snort'].mean()"
   ]
  },
  {
   "cell_type": "code",
   "execution_count": 10,
   "metadata": {},
   "outputs": [
    {
     "data": {
      "image/png": "[encoded data removed]",
      "text/plain": [
       "<matplotlib.figure.Figure at 0x1a13320ac8>"
      ]
     },
     "metadata": {},
     "output_type": "display_data"
    }
   ],
   "source": [
    "plt.subplot(1,2,1)\n",
    "plt.plot(seedoctor.groupby('Sleepy')['Snort'].mean())\n",
    "plt.plot(nodoctor.groupby('Sleepy')['Snort'].mean())\n",
    "plt.legend(['See Doctor', 'Not See Doctor'])\n",
    "plt.xlabel('Sleepy')\n",
    "plt.ylabel('Snort and Stop Breathing Frequency');\n",
    "\n",
    "\n",
    "plt.subplot(1,2,2)\n",
    "plt.plot(seedoctor.groupby('Snort')['Sleepy'].mean())\n",
    "plt.plot(nodoctor.groupby('Snort')['Sleepy'].mean())\n",
    "plt.legend(['See Doctor', 'Not See Doctor'])\n",
    "plt.ylabel('Sleepy')\n",
    "plt.xlabel('Snort and Stop Breathing Frequency')\n",
    "plt.tight_layout()\n",
    "plt.show();\n",
    "\n"
   ]
  },
  {
   "cell_type": "markdown",
   "metadata": {},
   "source": [
    "# Data Modeling\n",
    "\n",
    "#### 1. Logistic Regression\n",
    "\n",
    "Based on the findings from the explanatory analysis, we found that people who came to visit a doctor for sleep disorders behave differently with those who did not visit a doctor for sleeping disorders, especially in Sleepy and Snort frequencies. Therefore, we furthered to analyze the likelihood of people who will consult a doctor for sleeping problems in the future from historical behavioral data using logistic regression. The binary response variable is Doctor, and the predictors are SleepHours, Snore, Sleepy, newSleepTime and newWakeTime.\n",
    "\n",
    "From the coefficients table and the stem plot below, we were able to see that the relatively significant variables are Sleep and Snort, which confirmed our assumptions from summary statistics in previous sections. \n",
    "\n",
    "We also utilized cross-validation for our logistic regression model to confirm the validity of selecction of training and testing data. Overall, we achieved the accuracies of predicting one's preference of seeing a doctor with mean of 76%. \n"
   ]
  },
  {
   "cell_type": "code",
   "execution_count": 11,
   "metadata": {},
   "outputs": [
    {
     "name": "stdout",
     "output_type": "stream",
     "text": [
      "Index(['Respondent', 'SleepTime', 'WakeTime', 'SleepHours', 'Snore', 'Snort',\n",
      "       'Doctor', 'Sleepy', 'newSleepTime', 'newWakeTime'],\n",
      "      dtype='object')\n",
      "Index(['SleepHours', 'Snore', 'Snort', 'Sleepy', 'newSleepTime',\n",
      "       'newWakeTime'],\n",
      "      dtype='object')\n"
     ]
    }
   ],
   "source": [
    "from sklearn.linear_model import LogisticRegression\n",
    "from sklearn.model_selection import train_test_split\n",
    "from sklearn.model_selection import cross_val_score\n",
    "\n",
    "print(SLQ.columns)\n",
    "X=SLQ.iloc[:,3:].drop('Doctor',axis=1)\n",
    "y=SLQ.Doctor\n",
    "print(X.columns)"
   ]
  },
  {
   "cell_type": "code",
   "execution_count": 12,
   "metadata": {},
   "outputs": [
    {
     "name": "stdout",
     "output_type": "stream",
     "text": [
      "0.7740412979351032\n"
     ]
    }
   ],
   "source": [
    "X_train,X_test,y_train,y_test=train_test_split(X,y,test_size=0.3)\n",
    "logreg=LogisticRegression()\n",
    "result=logreg.fit(X_train,y_train)\n",
    "y_pred=logreg.predict(X_test)\n",
    "acc=np.mean(y_pred==y_test)\n",
    "print(acc)"
   ]
  },
  {
   "cell_type": "code",
   "execution_count": 13,
   "metadata": {},
   "outputs": [
    {
     "name": "stdout",
     "output_type": "stream",
     "text": [
      "              Coefficient\n",
      "SleepHours      -0.101986\n",
      "Snore            0.015582\n",
      "Snort            0.347765\n",
      "Sleepy           0.428871\n",
      "newSleepTime    -0.000757\n",
      "newWakeTime      0.000707\n"
     ]
    }
   ],
   "source": [
    "W=logreg.coef_[0]\n",
    "Coef=pd.DataFrame(W, index=X.columns,columns=['Coefficient'])\n",
    "print(Coef)"
   ]
  },
  {
   "cell_type": "code",
   "execution_count": 14,
   "metadata": {},
   "outputs": [
    {
     "data": {
      "image/png": "[encoded data removed]",
      "text/plain": [
       "<matplotlib.figure.Figure at 0x1a138889e8>"
      ]
     },
     "metadata": {},
     "output_type": "display_data"
    }
   ],
   "source": [
    "plt.stem(W.ravel())\n",
    "plt.xticks(np.arange(6),('SleepHours','Snore','Snort','Sleepy','newSleepTime','newWakeTime'),rotation=45)\n",
    "plt.xlabel('Variable Name')\n",
    "plt.ylabel('Logistic Regression Coefficient')\n",
    "plt.title('Stem Plot of Logistic Regression');"
   ]
  },
  {
   "cell_type": "code",
   "execution_count": 15,
   "metadata": {},
   "outputs": [
    {
     "name": "stdout",
     "output_type": "stream",
     "text": [
      "[0.7614841  0.75618375 0.75441696 0.75752212 0.76106195 0.78368794\n",
      " 0.7570922  0.75531915 0.75531915 0.75      ]\n",
      "0.7592087316166483\n"
     ]
    }
   ],
   "source": [
    "reg=LogisticRegression()\n",
    "cv_scores = cross_val_score(reg,X,y,cv=10)\n",
    "print(cv_scores)\n",
    "print(np.mean(cv_scores))"
   ]
  },
  {
   "cell_type": "markdown",
   "metadata": {},
   "source": [
    "#### 2. K-Means Clustering\n",
    "\n",
    "So far, we found that Snort and Sleepy were two significant variables to predict the likelihood of visiting a doctor in the future. However, we also expected to look at the present situation because we suspected that there might be people who have a serious sleep problem and need to receive professional treatments from doctors but are unaware of their own status. Therefore, we utilized K-Means to classify people into 4 clusters where each cluster had a typical behavioral patterns and sleeping habits. Below, the line plots of 4 variables (Sleepy, Snore, Snort, Doctor) showed a similar pattern across 4 clusters, implying that they were significant and compatible indicators for sleeping disorders. This finding was consistent with our previous results from the logistic regression. In addition, after examining the behavior of each cluster, we found that people in cluster 2 were at a relatively higher risk of sleep disorders. Hence, we suggested people in cluster 2 to pay more attention to their sleeping to avoid future problems.\n"
   ]
  },
  {
   "cell_type": "code",
   "execution_count": 16,
   "metadata": {},
   "outputs": [
    {
     "name": "stdout",
     "output_type": "stream",
     "text": [
      "Index(['Respondent', 'SleepTime', 'WakeTime', 'SleepHours', 'Snore', 'Snort',\n",
      "       'Doctor', 'Sleepy', 'newSleepTime', 'newWakeTime'],\n",
      "      dtype='object')\n",
      "Index(['Snore', 'Snort', 'Doctor', 'Sleepy'], dtype='object')\n"
     ]
    }
   ],
   "source": [
    "from sklearn.cluster import KMeans\n",
    "print(SLQ.columns)\n",
    "X=SLQ.iloc[:,4:-2]\n",
    "print(X.columns)"
   ]
  },
  {
   "cell_type": "code",
   "execution_count": 17,
   "metadata": {},
   "outputs": [
    {
     "data": {
      "text/html": [
       "<div>\n",
       "<style scoped>\n",
       "    .dataframe tbody tr th:only-of-type {\n",
       "        vertical-align: middle;\n",
       "    }\n",
       "\n",
       "    .dataframe tbody tr th {\n",
       "        vertical-align: top;\n",
       "    }\n",
       "\n",
       "    .dataframe thead th {\n",
       "        text-align: right;\n",
       "    }\n",
       "</style>\n",
       "<table border=\"1\" class=\"dataframe\">\n",
       "  <thead>\n",
       "    <tr style=\"text-align: right;\">\n",
       "      <th></th>\n",
       "      <th>SleepHours</th>\n",
       "      <th>Snore</th>\n",
       "      <th>Snort</th>\n",
       "      <th>Doctor</th>\n",
       "      <th>Sleepy</th>\n",
       "      <th>newSleepTime</th>\n",
       "      <th>newWakeTime</th>\n",
       "    </tr>\n",
       "    <tr>\n",
       "      <th>group</th>\n",
       "      <th></th>\n",
       "      <th></th>\n",
       "      <th></th>\n",
       "      <th></th>\n",
       "      <th></th>\n",
       "      <th></th>\n",
       "      <th></th>\n",
       "    </tr>\n",
       "  </thead>\n",
       "  <tbody>\n",
       "    <tr>\n",
       "      <th>0</th>\n",
       "      <td>7.783784</td>\n",
       "      <td>0.571807</td>\n",
       "      <td>0.144144</td>\n",
       "      <td>0.290938</td>\n",
       "      <td>2.605723</td>\n",
       "      <td>2299.416004</td>\n",
       "      <td>676.833598</td>\n",
       "    </tr>\n",
       "    <tr>\n",
       "      <th>1</th>\n",
       "      <td>7.607503</td>\n",
       "      <td>2.753639</td>\n",
       "      <td>1.557671</td>\n",
       "      <td>0.449048</td>\n",
       "      <td>2.845465</td>\n",
       "      <td>2317.296753</td>\n",
       "      <td>679.820829</td>\n",
       "    </tr>\n",
       "    <tr>\n",
       "      <th>2</th>\n",
       "      <td>7.954172</td>\n",
       "      <td>0.430917</td>\n",
       "      <td>0.121067</td>\n",
       "      <td>0.139535</td>\n",
       "      <td>0.551300</td>\n",
       "      <td>2274.573871</td>\n",
       "      <td>667.854993</td>\n",
       "    </tr>\n",
       "    <tr>\n",
       "      <th>3</th>\n",
       "      <td>7.715149</td>\n",
       "      <td>2.494310</td>\n",
       "      <td>0.298009</td>\n",
       "      <td>0.178521</td>\n",
       "      <td>1.128734</td>\n",
       "      <td>2279.958037</td>\n",
       "      <td>648.177098</td>\n",
       "    </tr>\n",
       "  </tbody>\n",
       "</table>\n",
       "</div>"
      ],
      "text/plain": [
       "       SleepHours     Snore     Snort    Doctor    Sleepy  newSleepTime  \\\n",
       "group                                                                     \n",
       "0        7.783784  0.571807  0.144144  0.290938  2.605723   2299.416004   \n",
       "1        7.607503  2.753639  1.557671  0.449048  2.845465   2317.296753   \n",
       "2        7.954172  0.430917  0.121067  0.139535  0.551300   2274.573871   \n",
       "3        7.715149  2.494310  0.298009  0.178521  1.128734   2279.958037   \n",
       "\n",
       "       newWakeTime  \n",
       "group               \n",
       "0       676.833598  \n",
       "1       679.820829  \n",
       "2       667.854993  \n",
       "3       648.177098  "
      ]
     },
     "execution_count": 17,
     "metadata": {},
     "output_type": "execute_result"
    }
   ],
   "source": [
    "kmeans=KMeans(n_clusters=4,random_state=2)\n",
    "kmeans.fit(X)\n",
    "\n",
    "group=pd.Series(kmeans.labels_,index=SLQ.index)\n",
    "SLQ['group']=group\n",
    "summary_stats=SLQ.groupby('group').mean()\n",
    "summary_stats=summary_stats.drop('Respondent',axis=1)\n",
    "summary_stats"
   ]
  },
  {
   "cell_type": "code",
   "execution_count": 18,
   "metadata": {},
   "outputs": [
    {
     "data": {
      "image/png": "[encoded data removed]",
      "text/plain": [
       "<matplotlib.figure.Figure at 0x1a13e874e0>"
      ]
     },
     "metadata": {},
     "output_type": "display_data"
    }
   ],
   "source": [
    "from sklearn.preprocessing import scale\n",
    "new=scale(summary_stats.iloc[:,1:-2])\n",
    "plt.plot(new)\n",
    "plt.legend(['Snore','Snort','Doctor','Sleepy'],loc=1)\n",
    "plt.xticks(np.arange(4),('Cluster 1','Cluster 2','Cluster 3','Cluster 4'))\n",
    "plt.xlabel('Cluster')\n",
    "plt.ylabel('Scaled Mean Statistics')\n",
    "plt.title('Sacled Mean Statistics for K-Means');"
   ]
  },
  {
   "cell_type": "markdown",
   "metadata": {},
   "source": [
    "# Reference\n",
    "\n",
    "Centers for Disease Control and Prevention. (2018). $\\textit{National Health and Nutrition Examination Survey}$ [SLQ_I.xpt]. Retrieved from https://wwwn.cdc.gov/Nchs/Nhanes/2015-2016/SLQ_I.XPT"
   ]
  },
  {
   "cell_type": "code",
   "execution_count": null,
   "metadata": {},
   "outputs": [],
   "source": []
  }
 ],
 "metadata": {
  "kernelspec": {
   "display_name": "Python 3",
   "language": "python",
   "name": "python3"
  },
  "language_info": {
   "codemirror_mode": {
    "name": "ipython",
    "version": 3
   },
   "file_extension": ".py",
   "mimetype": "text/x-python",
   "name": "python",
   "nbconvert_exporter": "python",
   "pygments_lexer": "ipython3",
   "version": "3.6.4"
  }
 },
 "nbformat": 4,
 "nbformat_minor": 2
}
